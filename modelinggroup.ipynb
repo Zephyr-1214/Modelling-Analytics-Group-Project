{
 "cells": [
  {
   "metadata": {
    "ExecuteTime": {
     "end_time": "2024-11-18T12:21:29.383239Z",
     "start_time": "2024-11-18T12:21:29.375557Z"
    }
   },
   "cell_type": "code",
   "source": [
    "import pandas as pd\n",
    "import pulp\n",
    "from sklearn.feature_extraction.text import TfidfVectorizer\n",
    "from sklearn.cluster import KMeans\n",
    "import random\n",
    "from pulp import PULP_CBC_CMD"
   ],
   "id": "7ddc61053bcc4ae8",
   "outputs": [],
   "execution_count": 92
  },
  {
   "metadata": {
    "ExecuteTime": {
     "end_time": "2024-11-18T12:21:29.399281Z",
     "start_time": "2024-11-18T12:21:29.395734Z"
    }
   },
   "cell_type": "code",
   "source": [
    "#define the function for users to enter the age period, number of male and female students and number of menu to generate\n",
    "def age_period():\n",
    "    while True:\n",
    "        print('Please select students\\' age period:')\n",
    "        print('A: 4-6 years old')\n",
    "        print('B: 7-10 years old')\n",
    "        print('C: 11-14 years old')\n",
    "        print('D: 15-18 years old')\n",
    "        age_period = input('Enter A, B, C or D:')\n",
    "        if age_period.upper() in ['A','B','C','D']:\n",
    "            return age_period\n",
    "        else:\n",
    "            print('Invalid input. Please try again.')\n",
    "def count_students():\n",
    "    while True:\n",
    "        print('Please enter the number of male student')\n",
    "        male_students = input()\n",
    "        if male_students.isdigit():\n",
    "            break\n",
    "        else:\n",
    "            print('Invalid input. Please input an integer.')\n",
    "    while True:\n",
    "        print('Please enter the number of female student')\n",
    "        female_students = input()\n",
    "        if female_students.isdigit():\n",
    "            break\n",
    "        else:\n",
    "            print('Invalid input. Please input an integer.')\n",
    "    return int(male_students), int(female_students)\n",
    "def number_of_menu_to_generate():\n",
    "    while True:\n",
    "        n = input('Please enter the number of menu to generate:')\n",
    "        if n.isdigit():\n",
    "            break\n",
    "        else:\n",
    "            print('Invalid input. Please input an integer.')"
   ],
   "id": "c2a48b822e06ab83",
   "outputs": [],
   "execution_count": 93
  },
  {
   "metadata": {
    "ExecuteTime": {
     "end_time": "2024-11-18T12:21:29.429672Z",
     "start_time": "2024-11-18T12:21:29.427186Z"
    }
   },
   "cell_type": "code",
   "source": [
    "#let users to enter, the parameters are fixed for now\n",
    "#tag = age_period()\n",
    "#malenum, femalenum = count_students()\n",
    "#n = number_of_menu_to_generate()\n",
    "tag = 'D'\n",
    "malenum, femalenum = 500, 500\n",
    "n = 5"
   ],
   "id": "e6af0bfcf76e7d72",
   "outputs": [],
   "execution_count": 94
  },
  {
   "metadata": {
    "ExecuteTime": {
     "end_time": "2024-11-18T12:21:29.445829Z",
     "start_time": "2024-11-18T12:21:29.442760Z"
    }
   },
   "cell_type": "code",
   "source": [
    "#set up unpreferred food list such as allergy food\n",
    "unpreferred_food = ['Quinoa','Peanut','Zucchini','raw']\n",
    "#set up unpreperred food list such as baby formula\n",
    "unpreferred_group = ['BF','BFD','BFG','BFJ','BFP']"
   ],
   "id": "6e87ba12b423c4c",
   "outputs": [],
   "execution_count": 95
  },
  {
   "metadata": {
    "ExecuteTime": {
     "end_time": "2024-11-18T12:21:29.481844Z",
     "start_time": "2024-11-18T12:21:29.457667Z"
    }
   },
   "cell_type": "code",
   "source": [
    "#read the government dietary recommendation file\n",
    "sheet_dict = {'A':0, 'B':1, 'C':2, 'D':3}\n",
    "diet_recommendation = pd.read_excel('government_dietry_reccomandation.xlsx', sheet_name=sheet_dict[tag] , index_col=0)\n",
    "#sum up the toatal demand of each nutrient based on the number of male and female students\n",
    "diet_recommendation['demand'] = diet_recommendation['Males']*malenum + diet_recommendation['Females']*femalenum\n",
    "#the meal takes up 40% of total demand of each nutrient within a day\n",
    "diet_recommendation['demand'] = diet_recommendation['demand']*0.4"
   ],
   "id": "6704f432c03b5b3e",
   "outputs": [],
   "execution_count": 96
  },
  {
   "metadata": {},
   "cell_type": "markdown",
   "source": "The part below is to cleanse the menu data. It just shows how we process the data from the internet. The users should have a menu of their own, so they can just upload their own menu and skip next 4 blocks.",
   "id": "2b2219ca2fca0505"
  },
  {
   "metadata": {
    "ExecuteTime": {
     "end_time": "2024-11-18T12:23:37.702662Z",
     "start_time": "2024-11-18T12:23:36.947887Z"
    }
   },
   "cell_type": "code",
   "source": [
    "#read the McCane and Widdowsons Food Composition Database\n",
    "food_composition = pd.read_excel('McCance_Widdowsons_Composition_of_Foods_Integrated_Dataset_2021.xlsx', index_col=0, sheet_name='1.3 Proximates')\n",
    "columns_in_need = ['Food Name','Description','Group', 'Protein (g)','Carbohydrate (g)',\n",
    "                   'Energy (kcal) (kcal)','Total sugars (g)','Satd FA /100g fd (g)',\n",
    "                   'Mono FA /100g food (g)','Poly FA /100g food (g)']\n",
    "food_composition = food_composition[columns_in_need]\n",
    "food_composition.info()"
   ],
   "id": "c91719e206ba6fe7",
   "outputs": [
    {
     "name": "stdout",
     "output_type": "stream",
     "text": [
      "<class 'pandas.core.frame.DataFrame'>\n",
      "Index: 2889 entries, nan to 11-1146\n",
      "Data columns (total 10 columns):\n",
      " #   Column                  Non-Null Count  Dtype \n",
      "---  ------                  --------------  ----- \n",
      " 0   Food Name               2887 non-null   object\n",
      " 1   Description             2887 non-null   object\n",
      " 2   Group                   2887 non-null   object\n",
      " 3   Protein (g)             2889 non-null   object\n",
      " 4   Carbohydrate (g)        2887 non-null   object\n",
      " 5   Energy (kcal) (kcal)    2888 non-null   object\n",
      " 6   Total sugars (g)        2887 non-null   object\n",
      " 7   Satd FA /100g fd (g)    2875 non-null   object\n",
      " 8   Mono FA /100g food (g)  2874 non-null   object\n",
      " 9   Poly FA /100g food (g)  2873 non-null   object\n",
      "dtypes: object(10)\n",
      "memory usage: 248.3+ KB\n"
     ]
    }
   ],
   "execution_count": 109
  },
  {
   "metadata": {
    "ExecuteTime": {
     "end_time": "2024-11-18T12:21:30.696844Z",
     "start_time": "2024-11-18T12:21:30.272800Z"
    }
   },
   "cell_type": "code",
   "source": [
    "#read the sodium data in another sheet\n",
    "food_composition2 = pd.read_excel('McCance_Widdowsons_Composition_of_Foods_Integrated_Dataset_2021.xlsx', index_col=0, sheet_name='1.4 Inorganics')\n",
    "food_composition2 = food_composition2['Sodium (mg)']\n",
    "#concat the two dataframe\n",
    "nutrient = pd.concat([food_composition, food_composition2], axis=1)\n",
    "#drop 2 rows of redundant rows\n",
    "nutrient = nutrient.iloc[2:]\n",
    "#replcae the 'Tr' and 'N' to 0\n",
    "nutrient.replace('Tr',0, inplace=True)\n",
    "nutrient.replace('N',0, inplace=True)\n",
    "#drop the alcoholic group\n",
    "nutrient = nutrient[~nutrient['Group'].str.startswith('Q')]"
   ],
   "id": "50ea2f9cfe134600",
   "outputs": [],
   "execution_count": 98
  },
  {
   "metadata": {
    "ExecuteTime": {
     "end_time": "2024-11-18T12:21:31.073131Z",
     "start_time": "2024-11-18T12:21:30.708785Z"
    }
   },
   "cell_type": "code",
   "source": [
    "#The amount of menu is too large and contains too many similar menu\n",
    "#create a tf-idf vectorizer\n",
    "food_type = TfidfVectorizer().fit_transform(nutrient['Food Name'])\n",
    "\n",
    "# split 400 kinds of different food\n",
    "type_num = 400\n",
    "\n",
    "# conduct clustering\n",
    "kmeans = KMeans(n_clusters=type_num, random_state=0)\n",
    "kmeans.fit(food_type)\n",
    "\n",
    "# attach the final result to the dataframe\n",
    "df = pd.DataFrame({'Dish': nutrient['Food Name'], 'Cluster': kmeans.labels_})\n",
    "nutrient = pd.concat([nutrient, df['Cluster']], axis=1)\n",
    "#显示结果"
   ],
   "id": "817d624f4ad7248a",
   "outputs": [],
   "execution_count": 99
  },
  {
   "metadata": {
    "ExecuteTime": {
     "end_time": "2024-11-18T12:21:31.149787Z",
     "start_time": "2024-11-18T12:21:31.086373Z"
    }
   },
   "cell_type": "code",
   "source": [
    "#each cluster retain one sample\n",
    "nutrient = nutrient.reset_index()\n",
    "nutrient = nutrient.groupby('Cluster',as_index=False).head(1)\n",
    "nutrient = nutrient.sort_values('Food Name', ascending=True)   \n",
    "nutrient = nutrient.set_index('index')\n",
    "#save the final result\n",
    "nutrient.to_excel('different_food.xlsx')"
   ],
   "id": "fc086604919b4b83",
   "outputs": [],
   "execution_count": 100
  },
  {
   "metadata": {},
   "cell_type": "markdown",
   "source": "This is the end of data cleansing. The users can skip the 4 blocks above and upload their own menu below. After the different_food.xlsx is saved. We priced the food manually based on the price of the food material which become our different_food_with_price.xlsx file.",
   "id": "3a61ca0822939a99"
  },
  {
   "metadata": {
    "ExecuteTime": {
     "end_time": "2024-11-18T12:21:31.212906Z",
     "start_time": "2024-11-18T12:21:31.163116Z"
    }
   },
   "cell_type": "code",
   "source": [
    "#read the menu with price file\n",
    "nutrientprice = pd.read_excel('different_food_with_price.xlsx', index_col=0)\n",
    "#the nutrientprice may be edited, so we have the displaytable as fixed database\n",
    "displaytable = nutrientprice"
   ],
   "id": "f683c4a4eed525f3",
   "outputs": [],
   "execution_count": 101
  },
  {
   "metadata": {
    "ExecuteTime": {
     "end_time": "2024-11-18T12:21:31.230026Z",
     "start_time": "2024-11-18T12:21:31.224120Z"
    }
   },
   "cell_type": "code",
   "source": [
    "#The nutrient is calculated based on 100g food, but the calculation is based on 10g, so we divide 10\n",
    "number_col = nutrientprice.select_dtypes(include=[int,float]).columns\n",
    "nutrientprice[number_col] = nutrientprice[number_col].apply(lambda x: x/10)\n",
    "#remove the food group that is not needed\n",
    "nutrientprice = nutrientprice[nutrientprice['Group'].str.startswith(('A','J','M','D','F','P'))]\n",
    "#The sodium nutrient dimension is mg, the sodium demand dimension is g, so we divide 100\n",
    "nutrientprice.loc[:, 'Salt'] = nutrientprice['Salt'] / 100\n",
    "#replace the nan value with 0\n",
    "nutrientprice = nutrientprice.fillna(0)"
   ],
   "id": "f60724d630897dc6",
   "outputs": [],
   "execution_count": 102
  },
  {
   "metadata": {
    "ExecuteTime": {
     "end_time": "2024-11-18T12:21:31.246954Z",
     "start_time": "2024-11-18T12:21:31.241969Z"
    }
   },
   "cell_type": "code",
   "source": [
    "#delet the unpreferred food and group\n",
    "for i in unpreferred_food:\n",
    "    nutrient = nutrientprice[~nutrientprice['Food Name'].str.contains(i, case = False)]\n",
    "for i in unpreferred_group:\n",
    "    nutrientprice = nutrientprice[nutrientprice['Group'] != i]"
   ],
   "id": "2770ba9a830af2ec",
   "outputs": [],
   "execution_count": 103
  },
  {
   "metadata": {
    "ExecuteTime": {
     "end_time": "2024-11-18T12:21:31.260861Z",
     "start_time": "2024-11-18T12:21:31.258989Z"
    }
   },
   "cell_type": "code",
   "source": [
    "#the total demand of each nutrient\n",
    "total_demand = diet_recommendation['demand']"
   ],
   "id": "f00f662e49119978",
   "outputs": [],
   "execution_count": 104
  },
  {
   "metadata": {
    "ExecuteTime": {
     "end_time": "2024-11-18T12:21:31.279324Z",
     "start_time": "2024-11-18T12:21:31.272465Z"
    }
   },
   "cell_type": "code",
   "source": [
    "def find_solution():\n",
    "    ## Declare the global variable nutrientprice to be used or modified in this scope\n",
    "    global nutrientprice\n",
    "    #set a number big enough to be used later\n",
    "    M = 100000*(malenum+femalenum)\n",
    "    #get all the food index\n",
    "    food_index = list(nutrientprice.index)\n",
    "    #creat an empty dictionary to store the solution\n",
    "    solution_dic = {}\n",
    "    #create the problem\n",
    "    prob = pulp.LpProblem(\"Food_Selection\", pulp.LpMinimize)\n",
    "    #create the decision variables\n",
    "    pick_routes = pulp.LpVariable.dicts(\"Pickroutes\", (food_index), lowBound=0, cat=pulp.LpInteger)\n",
    "    #create the binary variables to identity whether a certain food is selected\n",
    "    binary_routes = pulp.LpVariable.dicts(\"Binary_routes\", (food_index), lowBound=0, upBound=1, cat=pulp.LpBinary)\n",
    "    #set the objective function\n",
    "    prob += pulp.lpSum([nutrientprice.loc[i,'price']*pick_routes[i] for i in food_index]),'Objective Function'\n",
    "    #when a certain food is selected, set binary_routes to 1 respectively\n",
    "    for i in food_index:\n",
    "        prob += pick_routes[i] <= M * binary_routes[i]\n",
    "        prob += pick_routes[i] >= binary_routes[i]\n",
    "                \n",
    "    #Ensure that there is one and only one type of each kind of ingredient.\n",
    "    type_list=[list(nutrientprice[nutrientprice['Group'].str.startswith('A')].index),\n",
    "    list(nutrientprice[nutrientprice['Group'].str.startswith(('J','M'))].index),\n",
    "    list(nutrientprice[nutrientprice['Group'].str.startswith('D')].index),\n",
    "    list(nutrientprice[nutrientprice['Group'].str.startswith('F')].index),\n",
    "    list(nutrientprice[nutrientprice['Group'].str.startswith(('P','B'))].index)]\n",
    "    for i in range(len(type_list)):\n",
    "        prob += pulp.lpSum([binary_routes[j] for j in type_list[i]]) == 1\n",
    "        \n",
    "    #set a maximum amount of some group(This part can be edited based on certain cirmustance)\n",
    "    for i in list(nutrientprice[nutrientprice['Group'].str.startswith('D')].index):\n",
    "        prob += pick_routes[i] <= 9*(malenum+femalenum)\n",
    "    for i in list(nutrientprice[nutrientprice['Group'].str.startswith('A')].index):\n",
    "        prob += pick_routes[i] <= 9*(malenum+femalenum)\n",
    "    for i in list(nutrientprice[nutrientprice['Group'].str.startswith(('J','M'))].index):\n",
    "        prob += pick_routes[i] <= 8*(malenum+femalenum)\n",
    "    for i in list(nutrientprice[nutrientprice['Group'].str.startswith('D')].index):\n",
    "        prob += pick_routes[i] <= 9*(malenum+femalenum)\n",
    "    for i in list(nutrientprice[nutrientprice['Group'].str.startswith('A')].index):\n",
    "        prob += pick_routes[i] <= 9*(malenum+femalenum)\n",
    "\n",
    "\n",
    "    #ensuere the demand of each nutrient is met\n",
    "    prob += pulp.lpSum([nutrientprice.loc[j,'Enenergy(kcak/day)']*pick_routes[j] for j in food_index]) >= total_demand['Enenergy(kcak/day)']\n",
    "    prob += pulp.lpSum([nutrientprice.loc[j,'Protein']*pick_routes[j] for j in food_index]) >= total_demand['Protein']\n",
    "    prob += pulp.lpSum([nutrientprice.loc[j,'Carbohydrate']*pick_routes[j] for j in food_index]) >= total_demand['Carbohydrate']\n",
    "    prob += pulp.lpSum([nutrientprice.loc[j,'Free Sugar']*pick_routes[j] for j in food_index]) <= total_demand['Free Sugar']\n",
    "    prob += pulp.lpSum([nutrientprice.loc[j,'Salt']*pick_routes[j] for j in food_index]) <= total_demand['Salt']\n",
    "    prob += pulp.lpSum([nutrientprice.loc[j,'Saturated fat']*pick_routes[j] for j in food_index]) <= total_demand['Saturated fat']\n",
    "    prob += pulp.lpSum([nutrientprice.loc[j,'Monounsaturated fat']*pick_routes[j] for j in food_index]) >= total_demand['Monounsaturated fat']\n",
    "    prob += pulp.lpSum([nutrientprice.loc[j,'Polyunsaturated fat']*pick_routes[j] for j in food_index]) >= total_demand['Polyunsaturated fat']\n",
    "    \n",
    "    #slove the problem\n",
    "    prob.solve(PULP_CBC_CMD(msg=False))\n",
    "    #check whether the problem is solved\n",
    "    if prob.status != 1:\n",
    "        return False, False\n",
    "    #get the result\n",
    "    for v in prob.variables():\n",
    "        #only analyse the LpInteger variables with value larger than 0\n",
    "        if v.varValue != 0 and v.name.split('_')[0] == 'Pickroutes':#None\n",
    "            try:\n",
    "                #get the food index\n",
    "                chosen = v.name.split('_')[1:3]\n",
    "                chosenindex = '-'.join(chosen)\n",
    "                #find the food name based on food index\n",
    "                fn = nutrientprice.loc[chosenindex,'Food Name']\n",
    "                #add the result to the dictionary(the value is timed 10 to match the dimension)\n",
    "                solution_dic.update({fn: v.varValue*10}) \n",
    "                #To ensure the variety of food, drop this certain food group \n",
    "                chosen_group = nutrientprice.loc[chosenindex,'Group']\n",
    "                nutrientprice = nutrientprice[nutrientprice['Group'] != chosen_group]\n",
    "            except:\n",
    "                pass\n",
    "    return solution_dic, prob.objective.value()"
   ],
   "id": "35f65c13a2dbb5c3",
   "outputs": [],
   "execution_count": 105
  },
  {
   "metadata": {
    "ExecuteTime": {
     "end_time": "2024-11-18T12:21:33.148417Z",
     "start_time": "2024-11-18T12:21:31.290481Z"
    }
   },
   "cell_type": "code",
   "source": [
    "#generate certain amount of value\n",
    "result = []\n",
    "cost = []\n",
    "for i in range(n):\n",
    "    out, value = find_solution()\n",
    "    #identify whether there is a proper solution\n",
    "    if out == False:\n",
    "        #if there is no proper solution, stop the loop and hint the users\n",
    "        print(f'So far, {i} days of receipe has been generated')\n",
    "        print('But no more receipe can be generated, please adjust the menu or objectives')\n",
    "        break\n",
    "    #if there is a proper solution, add it to result\n",
    "    else:\n",
    "        result.append(out)\n",
    "        cost.append(value)\n",
    "# #randomly shuffle the result\n",
    "# combine = list(zip(result,cost))\n",
    "# random.shuffle(combine)\n",
    "# result,cost = zip(*combine)\n",
    "def print_menu(dct):\n",
    "    # calculate the width of each column\n",
    "    key_width = max(len(str(key)) for key in dct.keys()) + 3  \n",
    "    value_width = max(max(len(str(value)) for value in dct.values()), len('Amount(g)/(ml)'))    \n",
    "    \n",
    "    # print the headers\n",
    "    print(f\"{'Course Name':<{key_width}}{'Amount(g)/(ml)':<{value_width}}\")\n",
    "    print('-' * (key_width + value_width))  \n",
    "    \n",
    "    # print every key and value\n",
    "    for key, value in dct.items():\n",
    "        print(f\"{key:<{key_width}}{value:<{value_width}}\")\n",
    "#print the result\n",
    "d =1\n",
    "for i in range(len(result)):\n",
    "    print(f'Day {d}') \n",
    "    print_menu(result[i])\n",
    "    print('\\n')\n",
    "    print(f'The total cost of this menu is {cost[i]}p')\n",
    "    print('\\n')\n",
    "    d += 1  "
   ],
   "id": "6fb5276f5c3d085c",
   "outputs": [
    {
     "name": "stdout",
     "output_type": "stream",
     "text": [
      "So far, 3 days of receipe has been generated\n",
      "But no more receipe can be generated, please adjust the menu or objectives\n",
      "Day 1\n",
      "Course Name                                                Amount(g)/(ml)\n",
      "-------------------------------------------------------------------------\n",
      "Breakfast cereal, instant hot oat, plain, raw, fortified   90000.0       \n",
      "Tamarind                                                   58630.0       \n",
      "Apple juice concentrate, unsweetened, commerical           16140.0       \n",
      "Nut croquettes, fried in vegetable oil, homemade           90000.0       \n",
      "Beef, fat, average, raw, extra trimmed                     13560.0       \n",
      "\n",
      "\n",
      "The total cost of this menu is 1174.283p\n",
      "\n",
      "\n",
      "Day 2\n",
      "Course Name                                  Amount(g)/(ml)\n",
      "-----------------------------------------------------------\n",
      "Porridge oats, unfortified                   90000.0       \n",
      "Beans, pigeon peas, dahl, dried, raw         90000.0       \n",
      "Blackberry and apple, stewed without sugar   41880.0       \n",
      "Milk shake, powder                           7500.0        \n",
      "Bacon, fat only, average, raw                30080.0       \n",
      "\n",
      "\n",
      "The total cost of this menu is 1891.4099999999999p\n",
      "\n",
      "\n",
      "Day 3\n",
      "Course Name                                  Amount(g)/(ml)\n",
      "-----------------------------------------------------------\n",
      "Rice, wild, raw                              90000.0       \n",
      "Mushrooms, Chinese, dried, raw               66570.0       \n",
      "Passion fruit juice                          10.0          \n",
      "Blackcurrant juice drink/squash, undiluted   21970.0       \n",
      "Chicken, skin, roasted/grilled, dry          77750.0       \n",
      "\n",
      "\n",
      "The total cost of this menu is 2511.52p\n",
      "\n",
      "\n"
     ]
    }
   ],
   "execution_count": 106
  },
  {
   "metadata": {
    "ExecuteTime": {
     "end_time": "2024-11-18T12:21:33.165461Z",
     "start_time": "2024-11-18T12:21:33.163770Z"
    }
   },
   "cell_type": "code",
   "source": "",
   "id": "51150388ad216a71",
   "outputs": [],
   "execution_count": null
  }
 ],
 "metadata": {
  "kernelspec": {
   "display_name": "Python 3",
   "language": "python",
   "name": "python3"
  },
  "language_info": {
   "codemirror_mode": {
    "name": "ipython",
    "version": 2
   },
   "file_extension": ".py",
   "mimetype": "text/x-python",
   "name": "python",
   "nbconvert_exporter": "python",
   "pygments_lexer": "ipython2",
   "version": "2.7.6"
  }
 },
 "nbformat": 4,
 "nbformat_minor": 5
}
